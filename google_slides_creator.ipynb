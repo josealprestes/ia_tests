{
  "nbformat": 4,
  "nbformat_minor": 0,
  "metadata": {
    "colab": {
      "provenance": [],
      "authorship_tag": "ABX9TyMy9ubEkbxqLrs66eVJb1/4",
      "include_colab_link": true
    },
    "kernelspec": {
      "name": "python3",
      "display_name": "Python 3"
    },
    "language_info": {
      "name": "python"
    }
  },
  "cells": [
    {
      "cell_type": "markdown",
      "metadata": {
        "id": "view-in-github",
        "colab_type": "text"
      },
      "source": [
        "<a href=\"https://colab.research.google.com/github/josealprestes/ia_tests/blob/main/google_slides_creator.ipynb\" target=\"_parent\"><img src=\"https://colab.research.google.com/assets/colab-badge.svg\" alt=\"Open In Colab\"/></a>"
      ]
    },
    {
      "cell_type": "code",
      "execution_count": 1,
      "metadata": {
        "colab": {
          "base_uri": "https://localhost:8080/"
        },
        "id": "yxeY0m30lQED",
        "outputId": "70c6207a-daf3-46d7-b770-a3c4b677455e"
      },
      "outputs": [
        {
          "output_type": "stream",
          "name": "stdout",
          "text": [
            "Looking in indexes: https://pypi.org/simple, https://us-python.pkg.dev/colab-wheels/public/simple/\n",
            "Requirement already satisfied: google-auth in /usr/local/lib/python3.9/dist-packages (2.17.1)\n",
            "Requirement already satisfied: google-auth-oauthlib in /usr/local/lib/python3.9/dist-packages (1.0.0)\n",
            "Requirement already satisfied: google-auth-httplib2 in /usr/local/lib/python3.9/dist-packages (0.1.0)\n",
            "Requirement already satisfied: google-api-python-client in /usr/local/lib/python3.9/dist-packages (2.70.0)\n",
            "Requirement already satisfied: cachetools<6.0,>=2.0.0 in /usr/local/lib/python3.9/dist-packages (from google-auth) (5.3.0)\n",
            "Requirement already satisfied: rsa<5,>=3.1.4 in /usr/local/lib/python3.9/dist-packages (from google-auth) (4.9)\n",
            "Requirement already satisfied: pyasn1-modules>=0.2.1 in /usr/local/lib/python3.9/dist-packages (from google-auth) (0.2.8)\n",
            "Requirement already satisfied: six>=1.9.0 in /usr/local/lib/python3.9/dist-packages (from google-auth) (1.16.0)\n",
            "Requirement already satisfied: requests-oauthlib>=0.7.0 in /usr/local/lib/python3.9/dist-packages (from google-auth-oauthlib) (1.3.1)\n",
            "Requirement already satisfied: httplib2>=0.15.0 in /usr/local/lib/python3.9/dist-packages (from google-auth-httplib2) (0.21.0)\n",
            "Requirement already satisfied: uritemplate<5,>=3.0.1 in /usr/local/lib/python3.9/dist-packages (from google-api-python-client) (4.1.1)\n",
            "Requirement already satisfied: google-api-core!=2.0.*,!=2.1.*,!=2.2.*,!=2.3.0,<3.0.0dev,>=1.31.5 in /usr/local/lib/python3.9/dist-packages (from google-api-python-client) (2.11.0)\n",
            "Requirement already satisfied: googleapis-common-protos<2.0dev,>=1.56.2 in /usr/local/lib/python3.9/dist-packages (from google-api-core!=2.0.*,!=2.1.*,!=2.2.*,!=2.3.0,<3.0.0dev,>=1.31.5->google-api-python-client) (1.59.0)\n",
            "Requirement already satisfied: protobuf!=3.20.0,!=3.20.1,!=4.21.0,!=4.21.1,!=4.21.2,!=4.21.3,!=4.21.4,!=4.21.5,<5.0.0dev,>=3.19.5 in /usr/local/lib/python3.9/dist-packages (from google-api-core!=2.0.*,!=2.1.*,!=2.2.*,!=2.3.0,<3.0.0dev,>=1.31.5->google-api-python-client) (3.20.3)\n",
            "Requirement already satisfied: requests<3.0.0dev,>=2.18.0 in /usr/local/lib/python3.9/dist-packages (from google-api-core!=2.0.*,!=2.1.*,!=2.2.*,!=2.3.0,<3.0.0dev,>=1.31.5->google-api-python-client) (2.27.1)\n",
            "Requirement already satisfied: pyparsing!=3.0.0,!=3.0.1,!=3.0.2,!=3.0.3,<4,>=2.4.2 in /usr/local/lib/python3.9/dist-packages (from httplib2>=0.15.0->google-auth-httplib2) (3.0.9)\n",
            "Requirement already satisfied: pyasn1<0.5.0,>=0.4.6 in /usr/local/lib/python3.9/dist-packages (from pyasn1-modules>=0.2.1->google-auth) (0.4.8)\n",
            "Requirement already satisfied: oauthlib>=3.0.0 in /usr/local/lib/python3.9/dist-packages (from requests-oauthlib>=0.7.0->google-auth-oauthlib) (3.2.2)\n",
            "Requirement already satisfied: charset-normalizer~=2.0.0 in /usr/local/lib/python3.9/dist-packages (from requests<3.0.0dev,>=2.18.0->google-api-core!=2.0.*,!=2.1.*,!=2.2.*,!=2.3.0,<3.0.0dev,>=1.31.5->google-api-python-client) (2.0.12)\n",
            "Requirement already satisfied: certifi>=2017.4.17 in /usr/local/lib/python3.9/dist-packages (from requests<3.0.0dev,>=2.18.0->google-api-core!=2.0.*,!=2.1.*,!=2.2.*,!=2.3.0,<3.0.0dev,>=1.31.5->google-api-python-client) (2022.12.7)\n",
            "Requirement already satisfied: idna<4,>=2.5 in /usr/local/lib/python3.9/dist-packages (from requests<3.0.0dev,>=2.18.0->google-api-core!=2.0.*,!=2.1.*,!=2.2.*,!=2.3.0,<3.0.0dev,>=1.31.5->google-api-python-client) (3.4)\n",
            "Requirement already satisfied: urllib3<1.27,>=1.21.1 in /usr/local/lib/python3.9/dist-packages (from requests<3.0.0dev,>=2.18.0->google-api-core!=2.0.*,!=2.1.*,!=2.2.*,!=2.3.0,<3.0.0dev,>=1.31.5->google-api-python-client) (1.26.15)\n"
          ]
        }
      ],
      "source": [
        "!pip install google-auth google-auth-oauthlib google-auth-httplib2 google-api-python-client\n"
      ]
    },
    {
      "cell_type": "code",
      "source": [
        "from google.colab import auth\n",
        "auth.authenticate_user()\n",
        "\n",
        "from googleapiclient.discovery import build\n",
        "from googleapiclient.errors import HttpError\n",
        "\n",
        "# Inicialize o cliente da API do Google Slides\n",
        "slides_service = build('slides', 'v1', cache_discovery=False)\n"
      ],
      "metadata": {
        "id": "l2XuzuEalgvv"
      },
      "execution_count": 2,
      "outputs": []
    },
    {
      "cell_type": "code",
      "source": [
        "titulo = \"Letramento Digital\"\n",
        "subtitulos = [\n",
        "    \"Introdução\",\n",
        "    \"Componentes do Letramento Digital\",\n",
        "    \"Importância do Letramento Digital\",\n",
        "    \"Desafios e Soluções\",\n",
        "    \"Conclusão\",\n",
        "]\n",
        "\n",
        "slides = [\n",
        "    \"O letramento digital é a habilidade de buscar, entender, avaliar e criar informações usando tecnologias digitais.\",\n",
        "    \"O letramento digital inclui habilidades técnicas, cognitivas e sociais para navegar no mundo digital.\",\n",
        "    \"O letramento digital é crucial para o sucesso no mundo atual, tanto no ambiente de trabalho quanto na vida cotidiana.\",\n",
        "    \"Os desafios do letramento digital incluem a desigualdade no acesso à tecnologia e a necessidade de melhorar a educação digital.\",\n",
        "    \"Promover o letramento digital é essencial para capacitar as pessoas a participar plenamente na sociedade digital.\",\n",
        "]\n"
      ],
      "metadata": {
        "id": "ahLSa7Ksm0Bc"
      },
      "execution_count": 7,
      "outputs": []
    },
    {
      "cell_type": "code",
      "source": [
        "from google.colab import auth\n",
        "auth.authenticate_user()\n",
        "\n",
        "from googleapiclient.discovery import build\n",
        "service = build('slides', 'v1', cache_discovery=False)\n"
      ],
      "metadata": {
        "id": "I-9Pth6JnoDX"
      },
      "execution_count": 9,
      "outputs": []
    },
    {
      "cell_type": "code",
      "source": [
        "# Função para criar a apresentação\n",
        "def create_presentation(title, subtitle, subtitles, content):\n",
        "    try:\n",
        "        # Criar o cliente do Google Slides\n",
        "        service = build('slides', 'v1', credentials=creds)\n",
        "        \n",
        "        # Criar uma nova apresentação\n",
        "        body = {\n",
        "            'title': title\n",
        "        }\n",
        "        presentation = service.presentations().create(body=body).execute()\n",
        "        presentation_id = presentation['presentationId']\n",
        "        print(f\"Apresentação criada com o ID: {presentation_id}\")\n",
        "\n",
        "        # Adicionar o tema à apresentação\n",
        "        requests = [\n",
        "            {\n",
        "                'updatePresentationProperties': {\n",
        "                    'properties': {\n",
        "                        'themeId': theme_id\n",
        "                    },\n",
        "                    'fields': 'themeId'\n",
        "                }\n",
        "            }\n",
        "        ]\n",
        "        response = service.presentations().batchUpdate(presentationId=presentation_id, body={'requests': requests}).execute()\n",
        "\n",
        "        # Adicionar o primeiro slide à apresentação\n",
        "        slide_requests = [\n",
        "            {\n",
        "                'createSlide': {\n",
        "                    'insertionIndex': '0',\n",
        "                    'slideLayoutReference': {\n",
        "                        'predefinedLayout': 'TITLE_AND_TWO_COLUMNS'\n",
        "                    }\n",
        "                }\n",
        "            }\n",
        "        ]\n",
        "        slide_response = service.presentations().batchUpdate(presentationId=presentation_id, body={'requests': slide_requests}).execute()\n",
        "\n",
        "        # Adicionar o título à primeira slide\n",
        "        title_request = {\n",
        "            'insertText': {\n",
        "                'objectId': presentation['slides'][0]['pageElements'][0]['objectId'],\n",
        "                'insertionIndex': 0,\n",
        "                'text': title\n",
        "            }\n",
        "        }\n",
        "        response = service.presentations().batchUpdate(presentationId=presentation_id, body={'requests': [title_request]}).execute()\n",
        "\n",
        "        # Adicionar o subtítulo à primeira slide\n",
        "        subtitle_request = {\n",
        "            'insertText': {\n",
        "                'objectId': presentation['slides'][0]['pageElements'][1]['objectId'],\n",
        "                'insertionIndex': 0,\n",
        "                'text': subtitle\n",
        "            }\n",
        "        }\n",
        "        response = service.presentations().batchUpdate(presentationId=presentation_id, body={'requests': [subtitle_request]}).execute()\n",
        "\n",
        "        # Adicionar os demais slides à apresentação\n",
        "        for i in range(len(subtitles)):\n",
        "            slide_requests = [\n",
        "                {\n",
        "                    'createSlide': {\n",
        "                        'insertionIndex': str(i + 1),\n",
        "                        'slideLayoutReference': {\n",
        "                            'predefinedLayout': 'TITLE_AND_BODY'\n",
        "                        }\n",
        "                    }\n",
        "                }\n",
        "            ]\n",
        "            slide_response = service.presentations().batchUpdate(presentationId=presentation_id, body={'requests': slide_requests}).execute()\n",
        "\n",
        "            # Adicionar o título do slide\n",
        "            title_request = {\n",
        "                'insertText': {\n",
        "                    'objectId': f'slide{i + 1}_title',\n",
        "                    'insertionIndex': 0,\n",
        "                    'text': subtitles[i]\n",
        "                }\n",
        "            }\n",
        "            response = service.presentations().batchUpdate(presentationId=presentation_id, body={'requests': [title_request]}).execute()\n",
        "\n",
        "            # Adicionar o conteúdo do slide\n",
        "            body_request = {\n",
        "                'insertText': {\n",
        "                    'objectId': f'slide{i + 1}_body',\n",
        "                    'insertionIndex': 0,\n",
        "                    'text': content[i]\n",
        "                }\n",
        "            }\n",
        "            response = service.presentations().batchUpdate(presentationId=presentation_id, body={'requests': [body_request]}).execute()\n",
        "\n",
        "        print(\"Apresentação criada com sucesso.\")\n",
        "    except HttpError as error:\n",
        "        print(f\"Ocorreu um erro: {error}\")\n",
        "       \n"
      ],
      "metadata": {
        "id": "NDbPr4pBlmlJ"
      },
      "execution_count": 20,
      "outputs": []
    }
  ]
}